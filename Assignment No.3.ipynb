{
 "cells": [
  {
   "cell_type": "markdown",
   "id": "f9f7d48b",
   "metadata": {},
   "source": [
    "1) why are function advantageous to have in your program?\n",
    "ans-:\n",
    "Function reduce the need for duplicate code. This makes program shorter, easier to read & easier to update. "
   ]
  },
  {
   "cell_type": "markdown",
   "id": "8273077e",
   "metadata": {},
   "source": [
    "2) When does the code in function run: when it's specified or when it is called?\n",
    "ans-:\n",
    "The code in function run, when the function is called, not when the function defined. "
   ]
  },
  {
   "cell_type": "markdown",
   "id": "09c2a06f",
   "metadata": {},
   "source": [
    "3) What statement creates a function?\n",
    "ans-:\n",
    "The def statement defines a function."
   ]
  },
  {
   "cell_type": "markdown",
   "id": "3733122d",
   "metadata": {},
   "source": [
    "4) What is difference between a function and a function call?\n",
    "ans-:\n",
    "A function consist of the def statement and the code in its def claues.\n",
    "A function call is what moves the program execution into the function, and the function call evaluates to the function's return value."
   ]
  },
  {
   "cell_type": "markdown",
   "id": "e2ecc6b3",
   "metadata": {},
   "source": [
    "5) How many globle scopes are there in a python program? & How many local scope?\n",
    "ans-:\n",
    "There is one globle scope in python program.\n",
    "Local scope is created whenever a function is called."
   ]
  },
  {
   "cell_type": "markdown",
   "id": "2506d98c",
   "metadata": {},
   "source": [
    "6) What happens to variables in a local scope when the function call returns?\n",
    "ans-:\n",
    "When the function returns, the local scope is destroyed, and all variables in it are forgotten"
   ]
  },
  {
   "cell_type": "markdown",
   "id": "5f4a1749",
   "metadata": {},
   "source": [
    "7) What is the concept of return value? It is possible to have return value in expression?\n",
    "ans-:\n",
    "The return value is the value that a function call evalutes to. Like any value return value is used as part of expression. "
   ]
  },
  {
   "cell_type": "markdown",
   "id": "2dcf6de4",
   "metadata": {},
   "source": [
    "8) If a function does not have return statement. What is return value to call that function?\n",
    "ans-:\n",
    "If there is no return statement for a function, its return value is None."
   ]
  },
  {
   "cell_type": "markdown",
   "id": "23df8111",
   "metadata": {},
   "source": [
    "9) How do you make function variable refer to the globle variable?\n",
    "ans-:\n",
    "A globle statement force variable in a function to refer the globle variable.    "
   ]
  },
  {
   "cell_type": "markdown",
   "id": "64114814",
   "metadata": {},
   "source": [
    "10) What is the data type of None?\n",
    "ans-:\n",
    "NoneType"
   ]
  },
  {
   "cell_type": "markdown",
   "id": "a291e6fe",
   "metadata": {},
   "source": [
    "11) what does the sentence import areallyourpetsnamederic do?\n",
    "ans-:\n",
    "That import statement imports a module named areallyourpetsnamederic."
   ]
  },
  {
   "cell_type": "markdown",
   "id": "ea18aa32",
   "metadata": {},
   "source": [
    "12) If you had a bacon() feature in a spam module, what would you call it after importing spam?\n",
    "ans-:\n",
    "spam.bacon()"
   ]
  },
  {
   "cell_type": "markdown",
   "id": "fe1d539d",
   "metadata": {},
   "source": [
    "13) What can you do to save a programme from crashing if it encounters an error?\n",
    "ans-:\n",
    "Place the line of code that might cause an error in a try clause."
   ]
  },
  {
   "cell_type": "markdown",
   "id": "bf255d8a",
   "metadata": {},
   "source": [
    "14) What is the purpose of try clause? What is the purpose of except clause?\n",
    "ans-:\n",
    "The code that potentially cause an error goes in the try clause.\n",
    "The code that executes if an error happens goes in the except clause."
   ]
  }
 ],
 "metadata": {
  "kernelspec": {
   "display_name": "Python 3 (ipykernel)",
   "language": "python",
   "name": "python3"
  },
  "language_info": {
   "codemirror_mode": {
    "name": "ipython",
    "version": 3
   },
   "file_extension": ".py",
   "mimetype": "text/x-python",
   "name": "python",
   "nbconvert_exporter": "python",
   "pygments_lexer": "ipython3",
   "version": "3.9.7"
  }
 },
 "nbformat": 4,
 "nbformat_minor": 5
}
